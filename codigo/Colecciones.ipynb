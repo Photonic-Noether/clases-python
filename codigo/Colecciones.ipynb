{
 "cells": [
  {
   "cell_type": "markdown",
   "id": "5074b1d5-b673-4f9b-8c2a-f61bb910771c",
   "metadata": {},
   "source": [
    "# Colecciones\n",
    "\n",
    "Las colecciones son los tipos de datos complejos hablados anteriormente, que agrupan variables y permiten usar las variables de una forma más compleja"
   ]
  },
  {
   "cell_type": "markdown",
   "id": "bd6caa37-a88a-4e42-ab4a-584ba9f6bfe2",
   "metadata": {},
   "source": [
    "## Secuencias\n",
    "\n",
    "Las secuencias son ordenadas y accedidas por posición: Listas y tuplas"
   ]
  },
  {
   "cell_type": "code",
   "execution_count": null,
   "id": "60226fab-349c-4c78-b176-5ef6b134fbf8",
   "metadata": {},
   "outputs": [],
   "source": [
    "lista = list(range(1,11))\n",
    "tupla = tuple(range(8))"
   ]
  },
  {
   "cell_type": "markdown",
   "id": "2e29dabf-8257-4cde-8bce-70bb9c3221de",
   "metadata": {},
   "source": [
    "### Slicing\n",
    "\n",
    "Las secuencias tienen la caracteristica de que se pueden **cortar** (slice) mediante sus indices `secuencia[indice]`, y se puede cambiar (si es mutable) como `secuencia[indice] = nuevo_valor`.\n",
    "\n",
    "```\n",
    "secuencia[inicio:final:salto]\n",
    "```\n",
    "\n",
    "Los indices negativos indicarán un conteo desde atras (-1 siendo el último elemento), y **todo conteo empieza en 0**. Además, se puede definir un salto, que por defecto es 1."
   ]
  },
  {
   "cell_type": "code",
   "execution_count": null,
   "id": "9a446851-be6b-4150-bdce-20afe9dabdca",
   "metadata": {},
   "outputs": [],
   "source": [
    "print(lista[2:5])  # [3, 4, 5]\n",
    "print(lista[1:8:2])  # [2, 4, 6, 8]\n",
    "print(lista[1:8:3])  # [2, 5, 8]\n",
    "print(lista[5:])  # [6, 7, 8, 9, 10]\n",
    "print(tupla[:5])  # (0, 1, 2, 3, 4)\n",
    "print(tupla[-3:])  # (5, 6, 7)\n",
    "print(tupla[2])  # 2\n",
    "print(tupla[-2])  # 6"
   ]
  },
  {
   "cell_type": "markdown",
   "id": "77dad419-1e31-4e78-b4ac-e2d7353bf565",
   "metadata": {},
   "source": [
    "### Operadores + y *\n",
    "\n",
    "El operador + **extiende o concatena** en las secuencias (además, se considera a un string una secuencia de caracteres), y el operador * **repite**"
   ]
  },
  {
   "cell_type": "code",
   "execution_count": null,
   "id": "66678b79-9d53-4f5c-935d-2156ee109502",
   "metadata": {},
   "outputs": [],
   "source": [
    "lista_de_tupla = list(tupla)  # Para concatenar se necesita que ambos sean del mismo tipo\n",
    "print(lista + lista_de_tupla)\n",
    "print(tupla * 2)"
   ]
  },
  {
   "cell_type": "markdown",
   "id": "da08e3f1-ddf2-468f-a4b4-f99c6345845d",
   "metadata": {},
   "source": [
    "### Métodos de tuplas y listas\n",
    "\n",
    "Las tuplas solo tienen dos métodos, .count() y .index(), a continuación se referencian los metodos de las listas (que también tienen esos dos métodos).\n",
    "\n",
    ".count(valor) ---> Cuenta el número de repeticiones de ese valor/objeto\n",
    "\n",
    ".index(valor) ---> Indica el índice de ese valor, pero solo la primera vez que ha sido encontrado\n",
    "\n",
    ".append(valor) ---> Añade al final de la lista ese valor/objeto (su referencia)\n",
    "\n",
    ".insert(int, valor) ---> Añade en la posicion int ese valor/objeto (su referencia)\n",
    "\n",
    ".extend(iterable) ---> Concatena un iterable (cualquier iterable) con esa lista\n",
    "\n",
    ".clear() ---> Vacia la lista\n",
    "\n",
    ".copy() ---> Crea una copia de esa lista (id() sera distinto para copias, siendo pues dos objetos distintos)\n",
    "\n",
    ".pop(int) ---> Elimina el valor en el indice int, por defecto el último elemento\n",
    "\n",
    ".remove(valor) ---> Elimina la primera vez que encuentra ese valor\n",
    "\n",
    ".reverse() ---> Invierte la lista\n",
    "\n",
    ".sort(bool, funcion) ---> Ordena la lista. Este método es poderoso pero complejo, permite indicar si se ordena de menor a mayor, o al reves (reversed), y permite especificar un método de ordenación bastante complejo y poderoso"
   ]
  },
  {
   "cell_type": "code",
   "execution_count": null,
   "id": "1df1f573-ef03-4019-898c-992c4f6c68c6",
   "metadata": {},
   "outputs": [],
   "source": [
    "print(lista.sort(reverse=True))"
   ]
  },
  {
   "cell_type": "markdown",
   "id": "4c9bb6da-3870-405e-9e26-4cb072cb42b6",
   "metadata": {},
   "source": [
    "### Desempaquetado\n",
    "\n",
    "Se pueden extraer de forma cómoda y sencilla valores de un iterable (las sencuencias son un tipo de iterable) **desempaquetando estos valores**\n",
    "\n",
    "```python\n",
    "lista = [1, 2, 3]\n",
    "var_1, var_2, var_3 = lista\n",
    "```\n",
    "\n",
    "La forma especial `*var` permite *desempaquetar* como una **lista** los valores restantes, y la variable especial `_` se utiliza para guardar los valores que no sean de interés.\n",
    "\n",
    "*Este desempaquetado será especialmente importante en las funciones**"
   ]
  },
  {
   "cell_type": "code",
   "execution_count": null,
   "id": "9c83aafe-b8ec-46f8-9aab-b3d85ddfd66f",
   "metadata": {},
   "outputs": [],
   "source": [
    "numero_1, numero_2, *numeros, _ , _ = lista\n",
    "print(numero_1)\n",
    "print(numero_2)\n",
    "print(numeros)"
   ]
  },
  {
   "cell_type": "markdown",
   "id": "fcb51006-da54-4680-bf41-1176587088b1",
   "metadata": {},
   "source": [
    "## Ejercicios de repaso"
   ]
  },
  {
   "cell_type": "code",
   "execution_count": null,
   "id": "e6659637-13dd-4626-986f-30700383a131",
   "metadata": {},
   "outputs": [],
   "source": [
    "# Guardando numeros primos en una lista\n",
    "\n",
    "primos = []\n",
    "inicio = int(input(\"Dame un numero de inicio: \"))\n",
    "final = int(input(\"Dame un numero final: \"))\n",
    "\n",
    "\n",
    "\n",
    "print(primos)"
   ]
  },
  {
   "cell_type": "code",
   "execution_count": null,
   "id": "c425c505-d7b5-482d-bcc5-93559596b380",
   "metadata": {},
   "outputs": [],
   "source": [
    "# Generando numeros de Fibonacci en una lista\n",
    "\n",
    "numeros_fibonacci = int(input(\"Cuantos numeros de Fibonacci quieres: \"))\n",
    "\n",
    "\n",
    "\n",
    "print(fibonacci)"
   ]
  },
  {
   "cell_type": "code",
   "execution_count": null,
   "id": "5bbc36c1-598e-4560-b108-22ac30f49899",
   "metadata": {},
   "outputs": [],
   "source": [
    "# Alumnos: Comprobar si primera y ultima letras de un string son la misma (sin discriminar mayus/minus)\n",
    "\n",
    "string = input(\"Dame un string: \")\n",
    "\n"
   ]
  },
  {
   "cell_type": "code",
   "execution_count": null,
   "id": "5e5f4c8a-09fe-4f68-b234-c8c2622af6ec",
   "metadata": {},
   "outputs": [],
   "source": [
    "# Comprobar si un numero entero es palindromo y devolver la suma de sus digitos\n",
    "\n",
    "numero = input(\"Dime un numero: \")\n",
    "\n"
   ]
  },
  {
   "cell_type": "markdown",
   "id": "8c5c377b-ba1c-4932-86a1-b536d077f4f0",
   "metadata": {},
   "source": [
    "## Mapeos\n",
    "\n",
    "Los mapeos no tienen por que estar ordenados y son accedidos por clave*: Sets y diccionarios"
   ]
  },
  {
   "cell_type": "code",
   "execution_count": null,
   "id": "05355429-2287-4626-9ca6-01dea2997c62",
   "metadata": {},
   "outputs": [],
   "source": [
    "mi_set = set(range(4))\n",
    "diccionario = {1: \"rojo\", 4: \"verde\", 10: \"azul\"}"
   ]
  },
  {
   "cell_type": "markdown",
   "id": "73b9bef9-26db-46b8-9554-85473417b3b9",
   "metadata": {},
   "source": [
    "### Operaciones especiales en sets\n",
    "\n",
    "Los sets son construcciones matemáticas especiales.\n",
    "`-` es la diferencia entre sets\n",
    "`^` es la diferencia simetrica entre sets\n",
    "`&` es la interseccion entre sets\n",
    "`|` es la union entre sets\n",
    "`<` y `>` sirve para comprobar si un set es subset de otro"
   ]
  },
  {
   "cell_type": "code",
   "execution_count": null,
   "id": "0b62e573-4b3d-4b7a-8db0-e2d9bc89d26f",
   "metadata": {},
   "outputs": [],
   "source": [
    "mi_otro_set = set(range(2,6))\n",
    "print(mi_set - mi_otro_set)  # {0, 1}\n",
    "print(mi_set ^ mi_otro_set)  # {0, 1, 4, 5}\n",
    "print(mi_set & mi_otro_set)  # {2, 3}\n",
    "print(mi_set | mi_otro_set)  # {0, 1, 2, 3, 4, 5}"
   ]
  },
  {
   "cell_type": "markdown",
   "id": "4d60e226-02d6-4716-8c27-9535a2352560",
   "metadata": {},
   "source": [
    "### Diccionarios como colecciones por clave-valor\n",
    "\n",
    "Los diccionarios son tipos de datos especialmente útiles y utilizados, y no solo permiten una iteración por posición, sino también *por clave* `diccionario[clave]`. Además, el cambio de una clave-valor es tan sencilla como la asignación (igual que por posición en las secuencias mutables).\n",
    "\n",
    "```python\n",
    "diccionario[clave] = nuevo_valor\n",
    "```"
   ]
  },
  {
   "cell_type": "markdown",
   "id": "6f2596cf-28b6-422e-964a-82d1a08a20e3",
   "metadata": {},
   "source": [
    "### Fusión de dos diccionarios\n",
    "\n",
    "El operador `|` fusiona dos diccionarios, cambiando las claves por nuevos valores, y creando valores nuevos si no los habia."
   ]
  },
  {
   "cell_type": "code",
   "execution_count": null,
   "id": "1ffd0de3-ba05-472d-8d94-8c620e3f7930",
   "metadata": {},
   "outputs": [],
   "source": [
    "otro_diccionario = {1: \"amarillo\", 12: \"negro\"}\n",
    "test = diccionario | otro_diccionario\n",
    "print(test)"
   ]
  },
  {
   "cell_type": "markdown",
   "id": "e5856baf-769b-4a18-826d-663c339da26b",
   "metadata": {},
   "source": [
    "### Llave no encontrada\n",
    "\n",
    "Las llaves que no se encuentran crearán un error, sin embargo, hay formas de manejar esto (a veces no nos interesa un error cuando no existe una clave)"
   ]
  },
  {
   "cell_type": "code",
   "execution_count": null,
   "id": "5c9cf014-72bf-4413-ba42-30f4e85bd577",
   "metadata": {},
   "outputs": [],
   "source": [
    "print(diccionario[\"clave_que_no_existe\"])"
   ]
  },
  {
   "cell_type": "markdown",
   "id": "ac5c21bb-ac54-455a-a59e-5653c09d824c",
   "metadata": {},
   "source": [
    "### Métodos de diccionarios\n",
    "\n",
    ".get(clave, valor) ---> Extrae valor de esa clave, y si no la encuentra, muestra valor\n",
    "\n",
    ".setdefault(clave, valor) ---> Extrae valor de esa clave, y si no la encuentra, crea una clave-valor\n",
    "\n",
    ".clear() ---> Vacia el diccionario\n",
    "\n",
    ".copy() ---> Hace una copia del diccionario\n",
    "\n",
    ".pop(clave, valor) ---> Elimina esa clave, y si no la encuentra, muestra valor\n",
    "\n",
    ".update(diccionario) ---> Actualiza un diccionario con nuevas clave-valor\n",
    "\n",
    ".values() ---> Extrae los valores de ese diccionario\n",
    "\n",
    ".keys() ---> Extrae las claves de ese diccionario\n",
    "\n",
    ".items() ---> Extrae tuplas (clave, valor) de ese diccionario\n",
    "\n",
    ".fromkeys(iterable, valor) ---> Crea un diccionario formando claves con el iterable, y con un mismo valor (definido en el método)"
   ]
  },
  {
   "cell_type": "markdown",
   "id": "faeb5c15-6301-4a4c-80c3-2837a2a95e16",
   "metadata": {},
   "source": [
    "## Ejercicio\n",
    "\n",
    "Crear una base de datos de alumnos con nombre, edad y notas"
   ]
  },
  {
   "cell_type": "code",
   "execution_count": null,
   "id": "342b909c-2bf5-45c2-9e0e-d9236321bbd9",
   "metadata": {},
   "outputs": [],
   "source": [
    "\n",
    "\n"
   ]
  },
  {
   "cell_type": "markdown",
   "id": "b98d03fe-4c27-4ebb-8a5b-ea1f763b6848",
   "metadata": {},
   "source": [
    "## Ejercicios de repaso"
   ]
  },
  {
   "cell_type": "code",
   "execution_count": null,
   "id": "6755215d-db4d-40c8-be45-310c72dd4590",
   "metadata": {},
   "outputs": [],
   "source": [
    "# Validar una lista de telefonos\n",
    "\n",
    "\n"
   ]
  },
  {
   "cell_type": "code",
   "execution_count": null,
   "id": "781808ba-f491-471a-81de-60b7d6698a4e",
   "metadata": {},
   "outputs": [],
   "source": [
    "# Validar un diccionario con emails y si estan activos o no\n",
    "\n",
    "\n"
   ]
  },
  {
   "cell_type": "markdown",
   "id": "4ff64e9f-6bb9-4119-b0d2-73aa7b24cf1e",
   "metadata": {},
   "source": [
    "# Ejercicio para casa\n",
    "\n",
    "Crear una base de datos para usuarios y contraseñas"
   ]
  }
 ],
 "metadata": {
  "kernelspec": {
   "display_name": "Python 3 (ipykernel)",
   "language": "python",
   "name": "python3"
  },
  "language_info": {
   "codemirror_mode": {
    "name": "ipython",
    "version": 3
   },
   "file_extension": ".py",
   "mimetype": "text/x-python",
   "name": "python",
   "nbconvert_exporter": "python",
   "pygments_lexer": "ipython3",
   "version": "3.12.1"
  }
 },
 "nbformat": 4,
 "nbformat_minor": 5
}
