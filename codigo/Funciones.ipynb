{
 "cells": [
  {
   "cell_type": "markdown",
   "metadata": {},
   "source": [
    "# Funciones\n",
    "\n",
    "Un **componente** es una unidad (de complejidad arbitraria) que funciona de forma *coherente* dentro del código. Puede ser un bucle, una función, un script o un proyecto entero. Todo dependerá del *alcance deseado*, es decir, *definimos las unidades de acuerdo a la lógica y no de acuerdo a su extensión o complejidad*\n",
    "\n",
    "Las **funciones** son el componente más básico para representar *comportamiento* dentro del código. Son *reutilizables* y permiten fragmentar la lógica del código en unidades funcionales. Toda programación puede entenderse desde varios *paradigmas*, uno de ellos siendo el paradigma funcional.\n",
    "\n",
    "Python es un lenguaje orientado a objetos (paradigma orientado a objetos), sin embargo, una de sus grandes fortalezas es que sabe trazar una linea entre la programación funcional y la programación orientada a objetos, de forma que utiliza lo mejor de ambas.\n",
    "\n",
    "Las funciones se *definen* mediante la keyword `def`\n",
    "\n",
    "```python\n",
    "def mi_funcion():\n",
    "    ...\n",
    "```\n",
    "\n",
    "Además, las funciones deben **llamarse o invocarse** para que tengan efecto\n",
    "\n",
    "```python\n",
    "mi_funcion()\n",
    "```"
   ]
  },
  {
   "cell_type": "code",
   "execution_count": null,
   "metadata": {},
   "outputs": [],
   "source": [
    "def hola_mundo():\n",
    "    print(\"Hola mundo!\")\n",
    "\n",
    "hola_mundo()"
   ]
  },
  {
   "cell_type": "markdown",
   "metadata": {},
   "source": [
    "## return y parametros/argumentos\n",
    "\n",
    "Hay 4 tipos de funciones, de acuerdo a si tienen (o no) un return, o si tienen (o no) argumentos.\n",
    "\n",
    "La keyword `return` devuelve un valor *desde la función*"
   ]
  },
  {
   "cell_type": "code",
   "execution_count": null,
   "metadata": {},
   "outputs": [],
   "source": [
    "def suma_dos_numeros():\n",
    "    numero_1 = int(input(\"Primer numero: \"))\n",
    "    numero_2 = int(input(\"Segundo numero: \"))\n",
    "    return numero_1 + numero_2  # Especificamos que devuelva la suma de los dos numeros\n",
    "\n",
    "mi_suma = suma_dos_numeros()  # Se guarda en una variable el return de la funcion\n",
    "print(mi_suma)"
   ]
  },
  {
   "cell_type": "markdown",
   "metadata": {},
   "source": [
    "Por tanto, hay funciones *mudas* (sin `return`) y hay funciones con `return`, que es lo normal.\n",
    "\n",
    "Por otra parte, las funciones pueden tener **argumentos**. Un argumento es una variable que se le incluye (inyecta) a la función desde fuera de ella, para completar su información.\n",
    "\n",
    "```python\n",
    "def mi_funcion(argumento_1, argumento_2, ...):\n",
    "   ...\n",
    "```"
   ]
  },
  {
   "cell_type": "code",
   "execution_count": null,
   "metadata": {},
   "outputs": [],
   "source": [
    "def suma_dos_numeros(numero_1, numero_2):  # Estos son sus dos argumentos\n",
    "    return numero_1 + numero_2\n",
    "\n",
    "mi_suma = suma_dos_numeros(13, 5)  # Y aqui se le pasan dos parametros, 13 y 5\n",
    "print(mi_suma)\n",
    "mi_otra_suma = suma_dos_numeros(mi_suma, 10)\n",
    "print(mi_otra_suma)"
   ]
  },
  {
   "cell_type": "code",
   "execution_count": null,
   "metadata": {},
   "outputs": [],
   "source": [
    "# Función para restar dos numeros\n",
    " \n",
    "numero_1 = int(input(\"Escribe el primer numero:\"))\n",
    "numero_2 = int(input(\"Escribe el segundo numero:\"))\n",
    " \n",
    "def resta_dos_numeros(numero_1, numero_2):  # Estos son sus dos argumentos\n",
    "    return numero_1 - numero_2\n",
    " \n",
    "mi_resta = resta_dos_numeros(numero_1, numero_2)\n",
    " \n",
    "print(mi_resta)"
   ]
  },
  {
   "cell_type": "markdown",
   "metadata": {},
   "source": [
    "Por tanto, hay otros dos tipos de funciones, las que no tienen argumentos (funciones vacias) y las que tienen argumentos.\n",
    "\n",
    "¿Cuando utilizar argumentos y `return`?\n",
    "Generalmente, *no se utiliza `return`cuando se quiere ocultar parte de la lógica*, mientras que es buena práctica incluir un return. Por otra parte, se deben utilizar el menor número de argumentos necesarios, a fin de no contaminar innecesariamente el *scope* o el *namespace* de la función."
   ]
  },
  {
   "cell_type": "code",
   "execution_count": null,
   "metadata": {},
   "outputs": [],
   "source": [
    "def invertir(lista):\n",
    "    return lista[::-1] if type(lista) == list or type(tuple) == tuple else \"Solo puedo invertir listas\"\n",
    "\n",
    "mi_lista = [1, 2, 3, 4, 5]\n",
    "print(invertir(lista=mi_lista))"
   ]
  },
  {
   "cell_type": "markdown",
   "metadata": {},
   "source": [
    "## argumentos, argumentos por defecto, y argumentos keywork\n",
    "\n",
    "Los parametros pueden pasarse por **posición o por clave**, siendo a veces mas explicativa la segunda forma."
   ]
  },
  {
   "cell_type": "code",
   "execution_count": null,
   "metadata": {},
   "outputs": [],
   "source": [
    "def conectar_a_base_de_datos(url, contraseña=None, persistencia=False):\n",
    "    auth = True  # Aqui podemos tener una funcion que evalue la contraseña\n",
    "    if auth:\n",
    "        print(f\"Conectado a {url}\")\n",
    "    else:\n",
    "        return \"Contraseña incorrecta\"\n",
    "    return \"Exito en conexion\" if persistencia else \"Transferencia correcta, cerrando sesion\"\n",
    "\n",
    "status = conectar_a_base_de_datos(\"127.0.0.20\", \"admin123\", persistencia=True)\n",
    "print(status)"
   ]
  },
  {
   "cell_type": "markdown",
   "metadata": {},
   "source": [
    "Además, las funciones permiten tener argumentos con valores default (por defecto)."
   ]
  },
  {
   "cell_type": "code",
   "execution_count": null,
   "metadata": {},
   "outputs": [],
   "source": [
    "def conectar_a_base_de_datos(url, /, contraseña=False, *, persistencia=True):\n",
    "    auth = True  # Aqui podemos tener una funcion que evalue la contraseña\n",
    "    if not contraseña:\n",
    "        auth = False\n",
    "    if auth:\n",
    "        print(f\"Conectado a {url}\")\n",
    "    else:\n",
    "        return \"Contraseña incorrecta\"\n",
    "    return \"Exito en conexion\" if persistencia else \"Transferencia correcta, cerrando sesion\"\n",
    "\n",
    "status = conectar_a_base_de_datos(\"127.0.0.20\", \"123\", persistencia=False)\n",
    "print(status)"
   ]
  },
  {
   "cell_type": "markdown",
   "metadata": {},
   "source": [
    "Y se puede *obligar* a tratar ciertos parametros como claves (para obligar a una mayor claridad en el código). Por precedencia, primero se deben especificar los argumentos por posición, y despues, los argumentos por clave.\n",
    "\n",
    "```python\n",
    "def mi_funcion(arg_posicional, /, arg_normal, *, kwarg_1):  # arg_posicional esta obligado a ser posicional, y kwarg_1 esta obligado a ser por clave\n",
    "    ...\n",
    "```"
   ]
  },
  {
   "cell_type": "code",
   "execution_count": null,
   "metadata": {},
   "outputs": [],
   "source": [
    "def titulo(texto, /, filigrana=\"~\", *, ancho=50):\n",
    "    print(f\" {texto} \".center(ancho, filigrana))\n",
    "\n",
    "titulo(\"El gran Lebowsky\", ancho=80)\n",
    "titulo(\"Caminando entre lobos\", \"#\")\n",
    "titulo(\"American Beauty\", filigrana=\"*\")\n",
    "titulo(\"Jurasic Park\", filigrana=\"=\", ancho=120)\n",
    "titulo(\"La milla verde\", ancho=20)"
   ]
  },
  {
   "cell_type": "markdown",
   "metadata": {},
   "source": [
    "## Desempaquetar argumentos\n",
    "\n",
    "Las funciones pueden **desempaquetar** sus argumentos, una técnica especialmente poderosa e importante.\n",
    "Mediante `*` se desempaqueta en *lista* (por posición), mientras que `**` desempaqueta en *diccionario* (por claves).\n",
    "\n",
    "```python\n",
    "def mi_funcion(*args, **kwargs):\n",
    "    ...\n",
    "```\n",
    "\n",
    "Este desempaquetamiento se puede hacer tambien a nivel de parametro, permitiendo extender secuencias o mapeos como parametros posicionales o por clave"
   ]
  },
  {
   "cell_type": "code",
   "execution_count": null,
   "metadata": {},
   "outputs": [],
   "source": [
    "# Desempaquetando en la funcion (como argumentos)\n",
    "def suma(*numeros):\n",
    "    print(f\"Has introducido los numeros {numeros}\")\n",
    "    return sum(numeros)\n",
    "\n",
    "print(suma(1, 4, 2, 5, 1, 4, 7, 9, 2, 3, 10, 3, 2, 7, 3, 1, 8, 10))\n",
    "\n",
    "def concatenar(**contexto):\n",
    "    string_final = \"\"\n",
    "    print(f\"Has introducido este contexto {contexto}\")\n",
    "    for string in contexto.values():\n",
    "        string_final += string\n",
    "    return string_final\n",
    "\n",
    "string_compuesto = concatenar(a=\"Esto\", b=\" es\", c=\" un\", d=\" string!\")\n",
    "print(string_compuesto)\n",
    "\n",
    "# Desempaquetando en los parametros\n",
    "\n",
    "def suma(n1, n2, n3):\n",
    "    return n1 + n2 + n3\n",
    "\n",
    "lista_numeros = [1, 5, 2]\n",
    "print(suma(*lista_numeros))\n",
    "\n",
    "def concatenar(inicio, nudo, desenlace):\n",
    "    return inicio + nudo + desenlace\n",
    "\n",
    "contexto = {\"inicio\": \"Habia una vez...\\n\", \"nudo\": \"un dragon malo\\n\", \"desenlace\": \"que murio!\"}\n",
    "string_compuesto = concatenar(**contexto)\n",
    "print(string_compuesto)"
   ]
  },
  {
   "cell_type": "markdown",
   "metadata": {},
   "source": [
    "## Documentando funciones: Type hinting y docstrings\n",
    "\n",
    "Las funciones tienen tooltips, ayudas, docs, ... una serie de herramientas que ayudan a los desarrolladores a utilizarlas. Algunas de estas funciones (como los type annotations) son especialmente importantes para paquetes como mypy o pydantic.\n",
    "\n",
    "Un **docstring** es un string que acompaña a una funcion, y describe lo que hace.\n",
    "\n",
    "```python\n",
    "def mi_funcion():\n",
    "    \"\"\"doctring\"\"\"\n",
    "    ...\n",
    "```\n",
    "\n",
    "Un **type annotation** es una anotacion de tipos que determina los tipos de entrada (argumentos) y salida (return) de una funcion.\n",
    "\n",
    "```python\n",
    "def mi_funcion(arg: tipo) -> tipo:\n",
    "    ...\n",
    "```"
   ]
  },
  {
   "cell_type": "code",
   "execution_count": null,
   "metadata": {},
   "outputs": [],
   "source": [
    "def dolar_a_euro(dolares: float) -> str:\n",
    "    \"\"\"Convierte dolares a euros.\n",
    "\n",
    "    Args:\n",
    "      dolares: La cantidad de dolares a convertir.\n",
    "\n",
    "    Returns:\n",
    "      El valor correspondiente en euros.\n",
    "\n",
    "    Raises:\n",
    "      TypeError: Si la cantidad no es float.\n",
    "    \"\"\"\n",
    "    if not isinstance(dolares, float):\n",
    "        raise TypeError(\"El tipo no representa una cantidad de dolares\")\n",
    "    return f\"{dolares}$ son {round(dolares * 0.93, 2)}€\"\n",
    "\n",
    "print(dolar_a_euro(320.66))"
   ]
  },
  {
   "cell_type": "markdown",
   "metadata": {},
   "source": [
    "## Funciones de orden superior y una funcion pitonica\n",
    "\n",
    "Las **funciones de orden superior** son funciones cuyos *argumentos* o su *return* son otras *funciones*. Algunas veces esto se conoce como **callback**."
   ]
  },
  {
   "cell_type": "code",
   "execution_count": null,
   "metadata": {},
   "outputs": [],
   "source": [
    "# Un ejemplo sencillo\n",
    "\n",
    "lista = [1, 4, 2, 6, 7, 2]\n",
    "print(sorted(lista))  # sorted esta siendo utilizado como parametro para print"
   ]
  },
  {
   "cell_type": "code",
   "execution_count": 6,
   "metadata": {},
   "outputs": [
    {
     "name": "stdout",
     "output_type": "stream",
     "text": [
      "1320\n",
      "80\n",
      "4.0\n",
      "27\n"
     ]
    }
   ],
   "source": [
    "# Un ejemplo realista y pitonico\n",
    "\n",
    "def suma(n1: int|float, n2: int|float) -> int|float:\n",
    "    return n1 + n2\n",
    "\n",
    "def resta(n1, n2):\n",
    "    return n1 - n2\n",
    "\n",
    "def multiplicacion(n1: int, n2: int) -> int:  # Crear otra funcion es sencillo\n",
    "    return n1 * n2\n",
    "\n",
    "division = lambda n1, n2: n1 / n2  # Incluso por lambda\n",
    "\n",
    "\n",
    "def calculadora(operacion: callable, n1: float | int, n2: float | int) -> float | int:\n",
    "    \"\"\"Hace calculos numericos, definidos previamente por el desarrollador\n",
    "\n",
    "    Args:\n",
    "        operacion(funcion): Determina lo que se va a hacer con los numeros\n",
    "        n1(int o float): Primer numero\n",
    "        n2(int o float): Segundo numero\n",
    "\n",
    "    Returns:\n",
    "        La operacion aplicada a los dos numeros\n",
    "    \"\"\"\n",
    "    resultado = operacion(n1, n2)  # Esto se llama funcion de primer orden, porque se ha pasado como argumento\n",
    "    return resultado\n",
    "\n",
    "elevar = lambda n1, n2: n1 ** n2\n",
    "\n",
    "print(calculadora(suma, 1200, 120))  # Usar estas funciones es facil, ya que se inyecta como parametro\n",
    "print(calculadora(resta, 100, 20))\n",
    "print(calculadora(division, 20, 5))\n",
    "print(calculadora(elevar, 3, 3))"
   ]
  },
  {
   "cell_type": "markdown",
   "metadata": {},
   "source": [
    "## Namespace y scope\n",
    "\n",
    "El **namespace** es el *entorno de nombres simbólicos* que agrega tanto las referencias de los objetos que se estan usando (estan *en scope*) como los valores a los que apuntan estas referencias. En Python, **el namespace es un diccionario que va guardando cada nombre como una clave y cuyo valor es el objeto mismo**.\n",
    "\n",
    "En Python hay 4 namespaces:\n",
    "\n",
    "    1. Construido por defecto (necesario para que todo funcione, con lo más básico)\n",
    "    2. Global (lo que esta accesible a nivel script o módulo)\n",
    "    3. Enclosing (accesible por estar en namespace local de una funcion de orden superior)\n",
    "    4. Local (el propio de ese lugar de codigo, generalmente perteneciente a una funcion)\n",
    "\n",
    "<img src=\"https://realpython.com/cdn-cgi/image/width=549,format=auto/https://files.realpython.com/media/t.fd7bd78bbb47.png\" width=\"300\" height=\"300\" />\n",
    "\n",
    "La existencia de multiples namespaces implica que hay un **scope**, es decir, un contexto donde una variable (o dato) vive.\n",
    "Pytho sigue la regla del LEGB, yendo desde el scope más local hasta el scope más general. **Debido a esto, es siempre mala idea utilizar palabras clave para definir variables, ya que eliminamos de scope esas variables o funciones**"
   ]
  },
  {
   "cell_type": "markdown",
   "metadata": {},
   "source": [
    "Si el interprete no encuentra el *nombre* en ninguno de esos namespace, entonces **estamos fuera de scope, y Python lanzará un NameError**.\n",
    "\n",
    "Se tienen las keywords `global` y `nonlocal` para manejar el acceso al scope (global y enclosing concretamente), aunque rara vez se utilizan, ya que el scope por defecto es suficiente.\n",
    "\n",
    "<img src=\"https://realpython.com/cdn-cgi/image/width=756,format=auto/https://files.realpython.com/media/t.0ee0e5dafa9d.png\" width=\"300\" height=\"300\" />\n",
    "\n",
    "---\n",
    "\n",
    "<img src=\"https://realpython.com/cdn-cgi/image/width=954,format=auto/https://files.realpython.com/media/t.b7e3c1b7bd96.png\" width=\"300\" height=\"300\" />\n",
    "\n",
    "El scope en Python es **a nivel función**, mientras que *los bloques crean y destruyen variables propias dentro de scope*"
   ]
  },
  {
   "cell_type": "code",
   "execution_count": 2,
   "metadata": {},
   "outputs": [
    {
     "name": "stdout",
     "output_type": "stream",
     "text": [
      "scope global\n",
      "0\n",
      "1\n",
      "2\n",
      "3\n",
      "4\n",
      "5\n",
      "6\n",
      "7\n",
      "7\n",
      "dentro de funcion\n"
     ]
    }
   ],
   "source": [
    "var = \"scope global\"\n",
    "print(var)\n",
    "\n",
    "for var in range(8):  # Scope es de funcion\n",
    "    print(var)\n",
    "print(var)  # Var ha cambiado porque esto es un bloque\n",
    "\n",
    "def mi_funcion():\n",
    "    var = \"dentro de funcion\"\n",
    "    print(var)  # Este var, al ser de funcion, si esta entro de scope\n",
    "mi_funcion()"
   ]
  },
  {
   "cell_type": "code",
   "execution_count": 4,
   "metadata": {},
   "outputs": [
    {
     "name": "stdout",
     "output_type": "stream",
     "text": [
      "local\n"
     ]
    }
   ],
   "source": [
    "# Scope normal\n",
    "\n",
    "var = \"global\"  # Si no tuvieramos ni var local ni enclosing, usariamos este\n",
    "def fuera():\n",
    "    var = \"enclosing\"  # Si no tuvieramos var local, usariamos este\n",
    "    def dentro():\n",
    "        var = \"local\"  # Como hay local, se usa este\n",
    "        print(var)\n",
    "    dentro()\n",
    "    \n",
    "fuera()"
   ]
  },
  {
   "cell_type": "code",
   "execution_count": 8,
   "metadata": {},
   "outputs": [
    {
     "name": "stdout",
     "output_type": "stream",
     "text": [
      "local\n"
     ]
    }
   ],
   "source": [
    "# Regla LEGB\n",
    "\n",
    "var = \"global\"  # Como solo tenemos este var, sera el que se use\n",
    "def fuera():\n",
    "    def dentro():\n",
    "        var = \"local\"\n",
    "        print(var)\n",
    "    dentro()\n",
    "fuera()"
   ]
  },
  {
   "cell_type": "code",
   "execution_count": 14,
   "metadata": {},
   "outputs": [
    {
     "name": "stdout",
     "output_type": "stream",
     "text": [
      "10\n"
     ]
    }
   ],
   "source": [
    "# Usando nonlocal para modificar desde scope enclosing\n",
    "\n",
    "var = 100\n",
    "def fuera():\n",
    "    var = 10\n",
    "    def dentro():\n",
    "        nonlocal var\n",
    "        print(var)  # En scope nonlocal\n",
    "        var += 10\n",
    "    dentro()\n",
    "fuera()"
   ]
  },
  {
   "cell_type": "code",
   "execution_count": 15,
   "metadata": {},
   "outputs": [
    {
     "name": "stdout",
     "output_type": "stream",
     "text": [
      "100\n",
      "110\n"
     ]
    }
   ],
   "source": [
    "# Usando global para modificar desde scope global\n",
    "\n",
    "var = 100\n",
    "def fuera():\n",
    "    var = 10  #Este no lo mira porque es enclosing y no global\n",
    "    def dentro():\n",
    "        global var  # Utiliza ahora el scope global\n",
    "        print(var)  # En namespace\n",
    "        var += 10\n",
    "        print(var)  # En scope nonlocal\n",
    "    dentro()\n",
    "fuera()"
   ]
  },
  {
   "cell_type": "markdown",
   "metadata": {},
   "source": [
    "## Introspeccion\n",
    "\n",
    "Python incluye una serie de funciones para investigar el namespace.\n",
    "\n",
    "`globals()` devuelve una referencia como diccionario del namespace global actual. Es normal ver nombres como *__name/_/_* o /_/_doc/_/_. **Esto permite modificar el namespace global directamente** manipulando este diccionario, pero en la mayoria de casos ni es lo normal ni es lo recomendable.\n",
    "\n",
    "`locals()` es parecida, pero para el namespace local. La unica diferencia entre `globals()` y `locals()` es que *el primero devuelve una referencia mientras que el segundo devuelve el diccionario en si*.\n",
    "\n",
    "Recordar que la definición de un objeto mutable es *aquel que se puede modificar fuera de scope*, y uno inmutable no (a menos que se pueda acceder a él)."
   ]
  },
  {
   "cell_type": "code",
   "execution_count": 1,
   "metadata": {},
   "outputs": [
    {
     "name": "stdout",
     "output_type": "stream",
     "text": [
      "{'__name__': '__main__', '__doc__': 'Automatically created module for IPython interactive environment', '__package__': None, '__loader__': None, '__spec__': None, '__builtin__': <module 'builtins' (built-in)>, '__builtins__': <module 'builtins' (built-in)>, '_ih': ['', 'var = 1\\ndef fuera():\\n    var = 2\\n    def dentro():\\n        global var\\n        print(globals())  # locals() inspecciona las variables lcales\\n        var = 3\\n    dentro()\\nfuera()'], '_oh': {}, '_dh': [WindowsPath('C:/Users/Proye/Desktop/clases-python/codigo')], 'In': ['', 'var = 1\\ndef fuera():\\n    var = 2\\n    def dentro():\\n        global var\\n        print(globals())  # locals() inspecciona las variables lcales\\n        var = 3\\n    dentro()\\nfuera()'], 'Out': {}, 'get_ipython': <bound method InteractiveShell.get_ipython of <ipykernel.zmqshell.ZMQInteractiveShell object at 0x0000024E7BACE5D0>>, 'exit': <IPython.core.autocall.ZMQExitAutocall object at 0x0000024E7A486690>, 'quit': <IPython.core.autocall.ZMQExitAutocall object at 0x0000024E7A486690>, 'open': <function open at 0x0000024E798BD080>, '_': '', '__': '', '___': '', '__session__': 'C:\\\\Users\\\\Proye\\\\Desktop\\\\clases-python\\\\codigo\\\\Funciones.ipynb', '_i': '', '_ii': '', '_iii': '', '_i1': 'var = 1\\ndef fuera():\\n    var = 2\\n    def dentro():\\n        global var\\n        print(globals())  # locals() inspecciona las variables lcales\\n        var = 3\\n    dentro()\\nfuera()', 'var': 1, 'fuera': <function fuera at 0x0000024E7BB53E20>}\n"
     ]
    }
   ],
   "source": [
    "var = 1\n",
    "def fuera():\n",
    "    var = 2\n",
    "    def dentro():\n",
    "        global var\n",
    "        print()  # locals() inspecciona las variables lcales\n",
    "        var = 3\n",
    "    dentro()\n",
    "fuera()"
   ]
  },
  {
   "cell_type": "markdown",
   "metadata": {},
   "source": [
    "## Lambdas y funciones anonimas\n",
    "\n",
    "Una **función anónima** es una función que *no tiene nombre*, es decir, se define y usa en el mismo lugar. En Python, estas funciones se llaman *lambdas*.\n",
    "\n",
    "```python\n",
    "var = lambda n1, n2: n1 + n2\n",
    "```\n",
    "\n",
    "que equivale a...\n",
    "\n",
    "```python\n",
    "def suma(n1: int, n2: int) -> int:\n",
    "    return n1 + n2\n",
    "```"
   ]
  },
  {
   "cell_type": "code",
   "execution_count": 3,
   "metadata": {},
   "outputs": [
    {
     "name": "stdout",
     "output_type": "stream",
     "text": [
      "[('Alicia', 25), ('Carlos', 23), ('David', 22), ('Joaquin', 20)]\n"
     ]
    }
   ],
   "source": [
    "estudiantes = [(\"Alicia\", 25), (\"Joaquin\", 20), (\"Carlos\", 23), (\"David\", 22)]\n",
    "ordenar_por_edad = lambda estudiante: estudiante[0]  # Que es la posicion de la edad\n",
    "estudiantes.sort(key=ordenar_por_edad)  # Se le da la funcion como argumento para ordenar (callback)\n",
    "print(estudiantes)"
   ]
  },
  {
   "cell_type": "markdown",
   "metadata": {},
   "source": [
    "# Ejercicios"
   ]
  },
  {
   "cell_type": "markdown",
   "metadata": {},
   "source": [
    "Pedir numeros hasta que se meta 0, y dar la suma de todos esos numeros"
   ]
  },
  {
   "cell_type": "code",
   "execution_count": 4,
   "metadata": {},
   "outputs": [
    {
     "name": "stdin",
     "output_type": "stream",
     "text": [
      "Introduce un número (0 para terminar):  1\n",
      "Introduce un número (0 para terminar):  2\n"
     ]
    },
    {
     "name": "stdout",
     "output_type": "stream",
     "text": [
      "[1]\n"
     ]
    },
    {
     "name": "stdin",
     "output_type": "stream",
     "text": [
      "Introduce un número (0 para terminar):  3\n"
     ]
    },
    {
     "name": "stdout",
     "output_type": "stream",
     "text": [
      "[1, 2]\n"
     ]
    },
    {
     "name": "stdin",
     "output_type": "stream",
     "text": [
      "Introduce un número (0 para terminar):  4\n"
     ]
    },
    {
     "name": "stdout",
     "output_type": "stream",
     "text": [
      "[1, 2, 3]\n"
     ]
    },
    {
     "name": "stdin",
     "output_type": "stream",
     "text": [
      "Introduce un número (0 para terminar):  5\n"
     ]
    },
    {
     "name": "stdout",
     "output_type": "stream",
     "text": [
      "[1, 2, 3, 4]\n"
     ]
    },
    {
     "name": "stdin",
     "output_type": "stream",
     "text": [
      "Introduce un número (0 para terminar):  0\n"
     ]
    },
    {
     "name": "stdout",
     "output_type": "stream",
     "text": [
      "[1, 2, 3, 4, 5]\n",
      "15\n"
     ]
    }
   ],
   "source": [
    "def pedir_numeros() -> int|float:\n",
    "    resultado = 0\n",
    "    while True:\n",
    "        numero = int(input(\"Dame un numero: \"))\n",
    "        if numero == 0:\n",
    "            break\n",
    "        resultado += numero\n",
    "    return resultado\n",
    "\n",
    "print(pedir_numeros())"
   ]
  },
  {
   "cell_type": "markdown",
   "metadata": {},
   "source": [
    "Conversion de ADN a ARN (complementario)"
   ]
  },
  {
   "cell_type": "code",
   "execution_count": 12,
   "metadata": {},
   "outputs": [
    {
     "name": "stdout",
     "output_type": "stream",
     "text": [
      "Hebra original: ATCGaGcTTg\n",
      "Hebra final: U A G C U C G A A C\n"
     ]
    }
   ],
   "source": [
    "# entra ---> ATCGtTAac\n",
    "# sale  ---> UAGCAUUTTG\n",
    "\n",
    "traduccion = {\"A\": \"U\",\n",
    "              \"T\": \"A\",\n",
    "              \"G\": \"C\",\n",
    "              \"C\": \"G\"}\n",
    "\n",
    "def adn_arn(adn: str) -> str:\n",
    "    adn_complementario = []\n",
    "    for par_nitrogenado in adn.upper():\n",
    "        adn_complementario.append(traduccion[par_nitrogenado])\n",
    "    return \" \".join(adn_complementario)\n",
    "\n",
    "adn = \"ATCGaGcTTg\"\n",
    "print(f\"Hebra original: {adn}\")\n",
    "arn = adn_arn(adn)\n",
    "print(f\"Hebra final: {arn}\")"
   ]
  },
  {
   "cell_type": "code",
   "execution_count": null,
   "metadata": {},
   "outputs": [],
   "source": []
  },
  {
   "cell_type": "markdown",
   "metadata": {},
   "source": [
    "Elevar al cuadrado todos los digitos de un string"
   ]
  },
  {
   "cell_type": "code",
   "execution_count": null,
   "metadata": {},
   "outputs": [],
   "source": [
    "#entrada ---> \"jba 2 4nlnlms11mlkms9\"\n",
    "#salida ---> [4, 16, 1, 1, 81]\n",
    "\n"
   ]
  },
  {
   "cell_type": "markdown",
   "metadata": {},
   "source": [
    "Validar IPs"
   ]
  },
  {
   "cell_type": "code",
   "execution_count": null,
   "metadata": {},
   "outputs": [],
   "source": [
    "#entrada ---> \"192.168.0.1\"\n",
    "#salida ---> True\n",
    "\n",
    "def validar_ip(ip: str) -> bool:\n",
    "    # Dividir la IP en sus partes\n",
    "    partes = ip.split('.')\n",
    "   \n",
    "    # Verificar que haya exactamente 4 partes\n",
    "    if len(partes) != 4:\n",
    "        return False\n",
    "   \n",
    "    for parte in partes:\n",
    "        # Verificar que cada parte sea un número y esté en el rango de 0 a 255\n",
    "        if not parte.isdigit() or not 0 <= int(parte) <= 255:\n",
    "            return False\n",
    "   \n",
    "    return True\n",
    " \n",
    "# Solicitar la IP al usuario\n",
    "ip = input(\"Introduce una dirección IP: \")\n",
    "if validar_ip(ip):\n",
    "    print(f\"La IP {ip} es válida.\")\n",
    "else:\n",
    "    print(f\"La IP {ip} no es válida.\")"
   ]
  },
  {
   "cell_type": "markdown",
   "metadata": {},
   "source": [
    "Conversor de numeros romanos a decimal"
   ]
  },
  {
   "cell_type": "code",
   "execution_count": null,
   "metadata": {},
   "outputs": [],
   "source": []
  }
 ],
 "metadata": {
  "kernelspec": {
   "display_name": "Python 3 (ipykernel)",
   "language": "python",
   "name": "python3"
  },
  "language_info": {
   "codemirror_mode": {
    "name": "ipython",
    "version": 3
   },
   "file_extension": ".py",
   "mimetype": "text/x-python",
   "name": "python",
   "nbconvert_exporter": "python",
   "pygments_lexer": "ipython3",
   "version": "3.12.1"
  }
 },
 "nbformat": 4,
 "nbformat_minor": 4
}
