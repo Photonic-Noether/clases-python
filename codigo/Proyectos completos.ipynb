{
 "cells": [
  {
   "cell_type": "markdown",
   "id": "fd5773c7-1539-48c0-b6f1-d5e575782640",
   "metadata": {},
   "source": [
    "# Modulos\n",
    "\n",
    "El proyecto mas sencillo en Python es un **módulo**. Un módulo es un *único archivo .py* que contiene instrucciones en lenguaje Python.\n",
    "\n",
    "Los módulos pueden importarse con la keyword `import`, y renombrarse con la keyword `as`, asi como manejar su contexto con la keyword `from`.\n",
    "\n",
    "```python\n",
    "from . import modulo as mod\n",
    "```\n",
    "\n",
    "La **librería estandart** de Python incluye una serie de modulos con funcionalidades auxiliares muy útiles, que utilizaremos todo el tiempo."
   ]
  },
  {
   "cell_type": "code",
   "execution_count": 2,
   "id": "869c015f-e36c-4094-8cc5-2e51c0a70ab4",
   "metadata": {},
   "outputs": [
    {
     "name": "stdout",
     "output_type": "stream",
     "text": [
      "9\n"
     ]
    }
   ],
   "source": [
    "import random\n",
    "\n",
    "iterable = list(range(11))\n",
    "numero_aleatorio = random.choice(iterable)\n",
    "print(numero_aleatorio)"
   ]
  },
  {
   "cell_type": "markdown",
   "id": "1d079a75-f211-4873-87f3-bfc6a3ac068c",
   "metadata": {},
   "source": [
    "## Imports\n",
    "\n",
    "Los imports pueden ser **relativos** (si se tiene en cuenta el script actual y se hace una busqueda relativa a él) o **absolutos** (si se especifica el path completo desde el punto de entrada)\n",
    "\n",
    "Absoluto\n",
    "\n",
    "```python\n",
    "import modulo\n",
    "```\n",
    "\n",
    "Relativo\n",
    "\n",
    "```python\n",
    "from . import modulo\n",
    "```\n",
    "\n",
    "En Python, normalmente, es *dificil* subir un nivel a la hora de importar, y se suelen *evitar* los imports relativos, sin embargo, no es imposible"
   ]
  },
  {
   "cell_type": "markdown",
   "id": "dd51d80e-35de-415d-a0f0-bea3ca4d3768",
   "metadata": {},
   "source": [
    "## Import circular\n",
    "\n",
    "Se produce un **import circular** cuando el modulo A depende del modulo B, y el modulo B depende del modulo A. Hay técnicas para evitarlos, pero en general, es mejor diseñar el proyecto de forma que no haga falta resolver esto. Un import circular revela un *mal diseño de software*."
   ]
  },
  {
   "cell_type": "markdown",
   "id": "23ace351-3093-4a59-b8ec-40f43e2ca753",
   "metadata": {},
   "source": [
    "# Paquetes\n",
    "\n",
    "Los **paquetes** son *directorios de módulos* que estan encabezados por un archivo /_/_init/_/_.py. Estos agrupan módulos con funcionalidades distintas y, en general, suelen ser proyectos al completo. Proyectos complejos o ambiciosos consistirán de varios paquetes."
   ]
  },
  {
   "cell_type": "markdown",
   "id": "6499b624-a080-493f-8dbc-3cecee2e9ad8",
   "metadata": {},
   "source": [
    "## Gestión de paquetes\n",
    "\n",
    "Python utiliza Pip como gestor de paquetes. Pip gestiona los paquetes del *interprete actual* de Python, y permite instalar paquetes tanto locales como remotos (la gran mayoría serán remotos). Estos son los comandos mas utilizados en Pip\n",
    "\n",
    "1. `pip install <nombre de paquete>` ---> Instala ese paquete en el interprete actual\n",
    "2. `pip uninstall <nombre de paquete>` ---> Elimina ese paquete del interprete actual\n",
    "3. `pip install --upgrade <nombre de paquete>` ---> Actualiza a la ultima version el paquete\n",
    "4. `pip install <nombre de paquete>==<numero de version>` ---> Instala o actualiza a una version concreta\n",
    "5. `pip list` ---> Muestra todos los paquetes instalados\n",
    "6. `pip show <nombre de paquete>` ---> Muestra todas las dependencias de un paquete\n",
    "7. `pip freeze > requirements.txt` ---> Genera un archivo de dependencias requirements.txt **este comando es muy importante**\n",
    "8. `pip install -r requirements.txt` ---> Automatiza la instalación de *todas las dependencias* para nuestro proyecto (**también muy importante**), utilizando un requirements.txt\n",
    "9. `pip search <nombre de paquete>` ---> Busca un paquete y muestra información al respecto\n",
    "10. `pip install <nombre de paquete>[extra]` ---> Instala un paquete con dependencias *extra*, añadiendo funcionalidades"
   ]
  },
  {
   "cell_type": "markdown",
   "id": "eb8789f0-8cbe-41b9-943e-c86a95417833",
   "metadata": {},
   "source": [
    "## Gestión de interpretes y creación de entornos virtuales\n",
    "\n",
    "Es *imprescindible* que creemos un interprete para *cada proyecto* que tengamos, de esta forma, aislamos las dependencias de cada proyecto. La creación de el entorno para cada interprete y el interprete mismo se denominan un **entorno virtual**. Hay varias formas de hacerlo, y la que utiliza la librería estandart es mediante `venv`.\n",
    "\n",
    "```\n",
    "1. Se crea el entorno virtual con venv\n",
    "    python -m venv <nombre de entorno virtual>\n",
    "\n",
    "\n",
    "2. Se activa el entorno virtual\n",
    "    Windows ---> myenv\\Scripts\\activate\n",
    "    MacOS y Linux ---> source myenv/bin/activate\n",
    "\n",
    "3. Comprobar en la terminal como se ha activado el entorno\n",
    "\n",
    "4. Cuando se termine de usar, desactivarlo con\n",
    "    deactivate\n",
    "```\n",
    "\n",
    "Ojo, no incluir el entonro virtual en los repositorios (añadir a .gitignore), pero *se deben incluir los archivos de configuración y dependencias* para que otros puedan utilizar nuestro proyecto"
   ]
  },
  {
   "cell_type": "markdown",
   "id": "360fba5d-fa66-42d5-9e4f-2823cf2bb655",
   "metadata": {},
   "source": [
    "## Archivos de configuración\n",
    "\n",
    "Los archivos mas básicos de configuración son los archivos *.ini* o *.cfg*, que simplemente recojen en texto plano los datos.\n",
    "\n",
    "```\n",
    "; Configuración del proyecto\n",
    "\n",
    "[base_de_datos]\n",
    "host = 125.2.2.13\n",
    "puerto = 5432\n",
    "usuario = admin\n",
    "contraseña = 123\n",
    "\n",
    "[rutas]\n",
    "one_drive = https://onedrive.live.com/redir?resid=ABCDEFG1234567!12\n",
    "logs_elastic = http://125.2.3.30:9200/\n",
    "indice_logs = my_index/_doc\n",
    "```\n",
    "\n",
    "Otros archivos muy utilizados son los *archivos de entorno .env*, que se suelen utilizar para guardar información sensible y **no deben incluirse en commits**.\n",
    "\n",
    "```\n",
    "# Base de datos\n",
    "DB_HOST=125.2.2.13\n",
    "DB_PORT=5432\n",
    "DB_USER=admin\n",
    "DB_PASSWORD=123\n",
    "\n",
    "# Contraseñas\n",
    "API_KEY=abcdef1234567890\n",
    "ELASTIC_KEY=xyz9876543210\n",
    "\n",
    "# Configuracion\n",
    "DEBUG=False\n",
    "MAX_CONNECTIONS=100\n",
    "```\n",
    "\n",
    "Los archivos .ini o .cfg se leen con el módulo `configparser`, mientras que los archivos .env se leen con el modulo `os`, o `dotenv` (una mejor forma pero requiere de instalación).\n",
    "\n",
    "Hay otros sistemas de archivos, como .yaml o .toml, y los .lock, que son de un uso más avanzado y para gestores de paquetes mas actuales."
   ]
  }
 ],
 "metadata": {
  "kernelspec": {
   "display_name": "Python 3 (ipykernel)",
   "language": "python",
   "name": "python3"
  },
  "language_info": {
   "codemirror_mode": {
    "name": "ipython",
    "version": 3
   },
   "file_extension": ".py",
   "mimetype": "text/x-python",
   "name": "python",
   "nbconvert_exporter": "python",
   "pygments_lexer": "ipython3",
   "version": "3.12.1"
  }
 },
 "nbformat": 4,
 "nbformat_minor": 5
}
